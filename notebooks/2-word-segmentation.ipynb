{
 "cells": [
  {
   "cell_type": "markdown",
   "metadata": {},
   "source": [
    "# Testing Segmentation"
   ]
  },
  {
   "cell_type": "code",
   "execution_count": 1,
   "metadata": {},
   "outputs": [],
   "source": [
    "import re"
   ]
  },
  {
   "cell_type": "code",
   "execution_count": 2,
   "metadata": {},
   "outputs": [
    {
     "data": {
      "text/plain": [
       "dict_values([['meth', 'eth', 'prop', 'but', 'pent', 'hex', 'hept', 'oct', 'non', 'dec', 'undec', 'dodec', 'tridec', 'tetradec', 'pentadec', 'hexadec', 'heptadec', 'octadec', 'nonadec', 'icos'], ['ane', 'ene', 'diene', 'yne', 'diyne', 'enyne', 'an', 'en', 'dien', 'yn', 'yl'], ['oic acid', 'oic anyhydride', 'oate', 'oyl', 'amide', 'nitrile', 'al', 'one', 'ol', 'thiol', 'amine', 'iminie'], ['carboxylic acid', 'carboxylic anyhydride', 'carboxylate', 'carbonyl', 'carboxamide', 'carbonitrile', 'carbaldehyde'], ['carboxy', 'alkoxycarbonyl', 'halocarbonyl', 'carbamoyl', 'cyano', 'oxo', 'hydroxy', 'mercapto', 'amino', 'iminio'], ['bicyclo', 'cyclo', 'sprio'], [',', '-', '.', '(', ')', '[', ']'], ['di', 'tri', 'tetra', 'bis', 'tris', 'tetrakis'], ['chloro', 'fluoro', 'nitro']])"
      ]
     },
     "execution_count": 2,
     "metadata": {},
     "output_type": "execute_result"
    }
   ],
   "source": [
    "import json\n",
    "\n",
    "with open('../data/raw/bag-of-words.json', 'r') as f:\n",
    "    bag_of_words = json.load(f)\n",
    "    \n",
    "bag_of_words.values()"
   ]
  },
  {
   "cell_type": "code",
   "execution_count": 3,
   "metadata": {},
   "outputs": [],
   "source": [
    "list_of_bag_words = []\n",
    "for values in bag_of_words.values():\n",
    "    list_of_bag_words.extend(values)\n",
    "\n",
    "list_of_bag_words.sort(key=len, reverse=True)"
   ]
  },
  {
   "cell_type": "code",
   "execution_count": 4,
   "metadata": {},
   "outputs": [
    {
     "data": {
      "text/plain": [
       "['carboxylic anyhydride',\n",
       " 'carboxylic acid',\n",
       " 'oic anyhydride',\n",
       " 'alkoxycarbonyl',\n",
       " 'carbonitrile',\n",
       " 'carbaldehyde',\n",
       " 'halocarbonyl',\n",
       " 'carboxylate',\n",
       " 'carboxamide',\n",
       " 'carbamoyl',\n",
       " 'tetradec',\n",
       " 'pentadec',\n",
       " 'heptadec',\n",
       " 'oic acid',\n",
       " 'carbonyl',\n",
       " 'mercapto',\n",
       " 'tetrakis',\n",
       " 'hexadec',\n",
       " 'octadec',\n",
       " 'nonadec',\n",
       " 'nitrile',\n",
       " 'carboxy',\n",
       " 'hydroxy',\n",
       " 'bicyclo',\n",
       " 'tridec',\n",
       " 'iminie',\n",
       " 'iminio',\n",
       " 'chloro',\n",
       " 'fluoro',\n",
       " 'undec',\n",
       " 'dodec',\n",
       " 'diene',\n",
       " 'diyne',\n",
       " 'enyne',\n",
       " 'amide',\n",
       " 'thiol',\n",
       " 'amine',\n",
       " 'cyano',\n",
       " 'amino',\n",
       " 'cyclo',\n",
       " 'sprio',\n",
       " 'tetra',\n",
       " 'nitro',\n",
       " 'meth',\n",
       " 'prop',\n",
       " 'pent',\n",
       " 'hept',\n",
       " 'icos',\n",
       " 'dien',\n",
       " 'oate',\n",
       " 'tris',\n",
       " 'eth',\n",
       " 'but',\n",
       " 'hex',\n",
       " 'oct',\n",
       " 'non',\n",
       " 'dec',\n",
       " 'ane',\n",
       " 'ene',\n",
       " 'yne',\n",
       " 'oyl',\n",
       " 'one',\n",
       " 'oxo',\n",
       " 'tri',\n",
       " 'bis',\n",
       " 'an',\n",
       " 'en',\n",
       " 'yn',\n",
       " 'yl',\n",
       " 'al',\n",
       " 'ol',\n",
       " 'di',\n",
       " ',',\n",
       " '-',\n",
       " '.',\n",
       " '(',\n",
       " ')',\n",
       " '[',\n",
       " ']']"
      ]
     },
     "execution_count": 4,
     "metadata": {},
     "output_type": "execute_result"
    }
   ],
   "source": [
    "list_of_bag_words"
   ]
  },
  {
   "cell_type": "code",
   "execution_count": 35,
   "metadata": {},
   "outputs": [],
   "source": [
    "def split_str_from_words(l, s):\n",
    "    m = re.split('({0})'.format('|'.join(l)), s)\n",
    "    return [i for i in m if i] # removes empty strings (improvements are welcome)\n"
   ]
  },
  {
   "cell_type": "code",
   "execution_count": 39,
   "metadata": {},
   "outputs": [
    {
     "data": {
      "text/plain": [
       "['1',\n",
       " ',',\n",
       " '1',\n",
       " ',',\n",
       " '1',\n",
       " ',',\n",
       " '5',\n",
       " ',',\n",
       " '5',\n",
       " ',',\n",
       " '5',\n",
       " '-',\n",
       " 'hex',\n",
       " 'a',\n",
       " 'fluoro',\n",
       " 'pent',\n",
       " 'ane',\n",
       " '-',\n",
       " '2',\n",
       " ',',\n",
       " '4',\n",
       " '-',\n",
       " 'di',\n",
       " 'one']"
      ]
     },
     "execution_count": 39,
     "metadata": {},
     "output_type": "execute_result"
    }
   ],
   "source": [
    "iupac = \"1,1,1,5,5,5-hexafluoropentane-2,4-dione\"\n",
    "\n",
    "split_str_from_words(list_of_bag_words, iupac)"
   ]
  },
  {
   "cell_type": "code",
   "execution_count": 40,
   "metadata": {},
   "outputs": [
    {
     "name": "stdout",
     "output_type": "stream",
     "text": [
      "1.27 µs ± 4.7 ns per loop (mean ± std. dev. of 7 runs, 1,000,000 loops each)\n"
     ]
    }
   ],
   "source": [
    "%timeit split_str_from_words(bag_of_words, iupac)"
   ]
  },
  {
   "cell_type": "markdown",
   "metadata": {},
   "source": [
    "# Main"
   ]
  },
  {
   "cell_type": "code",
   "execution_count": 2,
   "metadata": {},
   "outputs": [],
   "source": [
    "\"\"\"This file contains the tokenize function to segment the IUPAC name.\"\"\"\n",
    "import json\n",
    "import re\n",
    "from typing import List\n",
    "\n",
    "\n",
    "class KMESegmentation(object):\n",
    "    \"\"\"Segmentation the Chemical IUPAC name using regular expression.\"\"\"\n",
    "\n",
    "    def __init__(self, path: str = None) -> None:\n",
    "        \"\"\"Initialize the class with the path to the bag of words file.\n",
    "\n",
    "        Args:\n",
    "            path (str): Path to bag of words json file. Defaults to None.\n",
    "        \"\"\"\n",
    "        self.list_of_bag_words = []\n",
    "\n",
    "        with open(path, 'r') as bag_words_file:\n",
    "            bag_of_words = json.load(bag_words_file)\n",
    "\n",
    "        for words in bag_of_words.values():\n",
    "            self.list_of_bag_words.extend(words)\n",
    "\n",
    "        self.list_of_bag_words.sort(key=len, reverse=True)\n",
    "\n",
    "    def segment(self, iupac_name: str) -> List[str]:\n",
    "        \"\"\"Segment the iupac_name string using the bag of words.\n",
    "\n",
    "        Args:\n",
    "            iupac_name (str): Chemical IUPAC name that need to be segmented.\n",
    "\n",
    "        Returns:\n",
    "            List[str]: Results of the segmentation.\n",
    "        \"\"\"\n",
    "        segmented_word = []\n",
    "        joined_bag_words = '|'.join(self.list_of_bag_words)\n",
    "        format_bag_words = '({0})'.format(joined_bag_words)\n",
    "        raw_output = re.split(format_bag_words, iupac_name)\n",
    "\n",
    "        for word in raw_output:\n",
    "            if word != '' and word is not None:\n",
    "                segmented_word.append(word)\n",
    "\n",
    "        return segmented_word\n"
   ]
  },
  {
   "cell_type": "code",
   "execution_count": 3,
   "metadata": {},
   "outputs": [],
   "source": [
    "tokenizer = KMESegmentation('../data/raw/bag-of-words.json')"
   ]
  },
  {
   "cell_type": "code",
   "execution_count": 4,
   "metadata": {},
   "outputs": [
    {
     "data": {
      "text/plain": [
       "['1',\n",
       " ',',\n",
       " '1',\n",
       " ',',\n",
       " '1',\n",
       " ',',\n",
       " '5',\n",
       " ',',\n",
       " '5',\n",
       " ',',\n",
       " '5',\n",
       " '-',\n",
       " 'hex',\n",
       " 'a',\n",
       " 'fluoro',\n",
       " 'pent',\n",
       " 'ane',\n",
       " '-',\n",
       " '2',\n",
       " ',',\n",
       " '4',\n",
       " '-',\n",
       " 'di',\n",
       " 'one']"
      ]
     },
     "execution_count": 4,
     "metadata": {},
     "output_type": "execute_result"
    }
   ],
   "source": [
    "tokenizer.segment('1,1,1,5,5,5-hexafluoropentane-2,4-dione')"
   ]
  },
  {
   "cell_type": "code",
   "execution_count": 5,
   "metadata": {},
   "outputs": [
    {
     "data": {
      "text/html": [
       "<div>\n",
       "<style scoped>\n",
       "    .dataframe tbody tr th:only-of-type {\n",
       "        vertical-align: middle;\n",
       "    }\n",
       "\n",
       "    .dataframe tbody tr th {\n",
       "        vertical-align: top;\n",
       "    }\n",
       "\n",
       "    .dataframe thead th {\n",
       "        text-align: right;\n",
       "    }\n",
       "</style>\n",
       "<table border=\"1\" class=\"dataframe\">\n",
       "  <thead>\n",
       "    <tr style=\"text-align: right;\">\n",
       "      <th></th>\n",
       "      <th>cid</th>\n",
       "      <th>iupacname</th>\n",
       "    </tr>\n",
       "  </thead>\n",
       "  <tbody>\n",
       "    <tr>\n",
       "      <th>0</th>\n",
       "      <td>69628</td>\n",
       "      <td>1-prop-2-enoxy-2,2-bis(prop-2-enoxymethyl)butane</td>\n",
       "    </tr>\n",
       "    <tr>\n",
       "      <th>1</th>\n",
       "      <td>73706</td>\n",
       "      <td>1,1,1,5,5,5-hexafluoropentane-2,4-dione</td>\n",
       "    </tr>\n",
       "    <tr>\n",
       "      <th>2</th>\n",
       "      <td>109722</td>\n",
       "      <td>N'-(3-tetradecoxypropyl)propane-1,3-diamine</td>\n",
       "    </tr>\n",
       "    <tr>\n",
       "      <th>3</th>\n",
       "      <td>111007</td>\n",
       "      <td>3-(hexadecylamino)propane-1,2-diol</td>\n",
       "    </tr>\n",
       "    <tr>\n",
       "      <th>4</th>\n",
       "      <td>264852</td>\n",
       "      <td>1-methyl-4-[2-(4-methylphenyl)propan-2-yl]benzene</td>\n",
       "    </tr>\n",
       "  </tbody>\n",
       "</table>\n",
       "</div>"
      ],
      "text/plain": [
       "      cid                                          iupacname\n",
       "0   69628   1-prop-2-enoxy-2,2-bis(prop-2-enoxymethyl)butane\n",
       "1   73706            1,1,1,5,5,5-hexafluoropentane-2,4-dione\n",
       "2  109722        N'-(3-tetradecoxypropyl)propane-1,3-diamine\n",
       "3  111007                 3-(hexadecylamino)propane-1,2-diol\n",
       "4  264852  1-methyl-4-[2-(4-methylphenyl)propan-2-yl]benzene"
      ]
     },
     "execution_count": 5,
     "metadata": {},
     "output_type": "execute_result"
    }
   ],
   "source": [
    "import pandas as pd\n",
    "df = pd.read_csv('../data/interim/propane_iupac.csv')\n",
    "\n",
    "df.head()"
   ]
  },
  {
   "cell_type": "code",
   "execution_count": null,
   "metadata": {},
   "outputs": [],
   "source": [
    "df['iupacname'].apply(tokenizer.segment)"
   ]
  }
 ],
 "metadata": {
  "kernelspec": {
   "display_name": "Python 3.10.5 ('data-py3.10')",
   "language": "python",
   "name": "python3"
  },
  "language_info": {
   "codemirror_mode": {
    "name": "ipython",
    "version": 3
   },
   "file_extension": ".py",
   "mimetype": "text/x-python",
   "name": "python",
   "nbconvert_exporter": "python",
   "pygments_lexer": "ipython3",
   "version": "3.10.5"
  },
  "orig_nbformat": 4,
  "vscode": {
   "interpreter": {
    "hash": "a3fa1650aec0d40291855e229cec05e43fd91c89a05a0a589c9b0797f0bffacd"
   }
  }
 },
 "nbformat": 4,
 "nbformat_minor": 2
}
