{
 "cells": [
  {
   "cell_type": "markdown",
   "metadata": {},
   "source": [
    "# Testing Segmentaiton"
   ]
  },
  {
   "cell_type": "code",
   "execution_count": 8,
   "metadata": {},
   "outputs": [],
   "source": [
    "import re"
   ]
  },
  {
   "cell_type": "code",
   "execution_count": 9,
   "metadata": {},
   "outputs": [
    {
     "data": {
      "text/plain": [
       "dict_values([['meth', 'eth', 'prop', 'but', 'pent', 'hex', 'hept', 'oct', 'non', 'dec', 'undec', 'dodec', 'tridec', 'tetradec', 'pentadec', 'hexadec', 'heptadec', 'octadec', 'nonadec', 'icos'], ['ane', 'ene', 'diene', 'yne', 'diyne', 'enyne', 'an', 'en', 'dien', 'yn', 'yl'], ['oic acid', 'oic anyhydride', 'oate', 'oyl', 'amide', 'nitrile', 'al', 'one', 'ol', 'thiol', 'amine', 'iminie'], ['carboxylic acid', 'carboxylic anyhydride', 'carboxylate', 'carbonyl', 'carboxamide', 'carbonitrile', 'carbaldehyde'], ['carboxy', 'alkoxycarbonyl', 'halocarbonyl', 'carbamoyl', 'cyano', 'oxo', 'hydroxy', 'mercapto', 'amino', 'iminio'], ['bicyclo', 'cyclo', 'sprio'], [',', '-', '.', '(', ')', '[', ']'], ['di', 'tri', 'tetra', 'bis', 'tris', 'tetrakis'], ['chloro', 'fluoro', 'nitro']])"
      ]
     },
     "execution_count": 9,
     "metadata": {},
     "output_type": "execute_result"
    }
   ],
   "source": [
    "import json\n",
    "\n",
    "with open('../data/raw/bag-of-words.json', 'r') as f:\n",
    "    bag_of_words = json.load(f)\n",
    "    \n",
    "bag_of_words.values()"
   ]
  },
  {
   "cell_type": "code",
   "execution_count": 10,
   "metadata": {},
   "outputs": [],
   "source": [
    "list_of_bag_words = []\n",
    "for values in bag_of_words.values():\n",
    "    list_of_bag_words.extend(values)\n",
    "\n",
    "list_of_bag_words.sort(key=len, reverse=True)"
   ]
  },
  {
   "cell_type": "code",
   "execution_count": 11,
   "metadata": {},
   "outputs": [
    {
     "data": {
      "text/plain": [
       "['carboxylic anyhydride',\n",
       " 'carboxylic acid',\n",
       " 'oic anyhydride',\n",
       " 'alkoxycarbonyl',\n",
       " 'carbonitrile',\n",
       " 'carbaldehyde',\n",
       " 'halocarbonyl',\n",
       " 'carboxylate',\n",
       " 'carboxamide',\n",
       " 'carbamoyl',\n",
       " 'tetradec',\n",
       " 'pentadec',\n",
       " 'heptadec',\n",
       " 'oic acid',\n",
       " 'carbonyl',\n",
       " 'mercapto',\n",
       " 'tetrakis',\n",
       " 'hexadec',\n",
       " 'octadec',\n",
       " 'nonadec',\n",
       " 'nitrile',\n",
       " 'carboxy',\n",
       " 'hydroxy',\n",
       " 'bicyclo',\n",
       " 'tridec',\n",
       " 'iminie',\n",
       " 'iminio',\n",
       " 'chloro',\n",
       " 'fluoro',\n",
       " 'undec',\n",
       " 'dodec',\n",
       " 'diene',\n",
       " 'diyne',\n",
       " 'enyne',\n",
       " 'amide',\n",
       " 'thiol',\n",
       " 'amine',\n",
       " 'cyano',\n",
       " 'amino',\n",
       " 'cyclo',\n",
       " 'sprio',\n",
       " 'tetra',\n",
       " 'nitro',\n",
       " 'meth',\n",
       " 'prop',\n",
       " 'pent',\n",
       " 'hept',\n",
       " 'icos',\n",
       " 'dien',\n",
       " 'oate',\n",
       " 'tris',\n",
       " 'eth',\n",
       " 'but',\n",
       " 'hex',\n",
       " 'oct',\n",
       " 'non',\n",
       " 'dec',\n",
       " 'ane',\n",
       " 'ene',\n",
       " 'yne',\n",
       " 'oyl',\n",
       " 'one',\n",
       " 'oxo',\n",
       " 'tri',\n",
       " 'bis',\n",
       " 'an',\n",
       " 'en',\n",
       " 'yn',\n",
       " 'yl',\n",
       " 'al',\n",
       " 'ol',\n",
       " 'di',\n",
       " ',',\n",
       " '-',\n",
       " '.',\n",
       " '(',\n",
       " ')',\n",
       " '[',\n",
       " ']']"
      ]
     },
     "execution_count": 11,
     "metadata": {},
     "output_type": "execute_result"
    }
   ],
   "source": [
    "list_of_bag_words"
   ]
  },
  {
   "cell_type": "code",
   "execution_count": 12,
   "metadata": {},
   "outputs": [],
   "source": [
    "def split_str_from_words(l, s):\n",
    "    m = re.split(rf\"({'|'.join(l)})\", s)\n",
    "    return [i for i in m if i] # removes empty strings (improvements are welcome)\n"
   ]
  },
  {
   "cell_type": "code",
   "execution_count": 13,
   "metadata": {},
   "outputs": [
    {
     "data": {
      "text/plain": [
       "['1',\n",
       " ',',\n",
       " '1',\n",
       " ',',\n",
       " '1',\n",
       " ',',\n",
       " '5',\n",
       " ',',\n",
       " '5',\n",
       " ',',\n",
       " '5',\n",
       " '-',\n",
       " 'hex',\n",
       " 'a',\n",
       " 'fluoro',\n",
       " 'pent',\n",
       " 'ane',\n",
       " '-',\n",
       " '2',\n",
       " ',',\n",
       " '4',\n",
       " '-',\n",
       " 'di',\n",
       " 'one']"
      ]
     },
     "execution_count": 13,
     "metadata": {},
     "output_type": "execute_result"
    }
   ],
   "source": [
    "iupac = \"1,1,1,5,5,5-hexafluoropentane-2,4-dione\"\n",
    "\n",
    "split_str_from_words(list_of_bag_words, iupac)"
   ]
  },
  {
   "cell_type": "code",
   "execution_count": 14,
   "metadata": {},
   "outputs": [
    {
     "name": "stdout",
     "output_type": "stream",
     "text": [
      "1.17 µs ± 7.57 ns per loop (mean ± std. dev. of 7 runs, 1,000,000 loops each)\n"
     ]
    }
   ],
   "source": [
    "%timeit split_str_from_words(bag_of_words, iupac)"
   ]
  },
  {
   "cell_type": "markdown",
   "metadata": {},
   "source": [
    "# Main"
   ]
  },
  {
   "cell_type": "code",
   "execution_count": 17,
   "metadata": {},
   "outputs": [],
   "source": [
    "import json\n",
    "import re\n",
    "from typing import List\n",
    "\n",
    "class KMESegmentation():\n",
    "    \"\"\"Segmentation the Chemical IUPAC name using regular expression\n",
    "    \"\"\"\n",
    "    def __init__(self, path:str = None) -> None:\n",
    "        \"\"\"Initialize the class with the path to the bag of words file\n",
    "\n",
    "        Args:\n",
    "            path (str): Path to bag of words json file. Defaults to None.\n",
    "        \"\"\"\n",
    "        self.list_of_bag_words = []\n",
    "        \n",
    "        if path is None:\n",
    "            raise(ValueError(\"Path is not specified\"))\n",
    "\n",
    "        with open(path, 'r') as f:\n",
    "            bag_of_words = json.load(f)\n",
    "\n",
    "        for values in bag_of_words.values():\n",
    "            self.list_of_bag_words.extend(values)\n",
    "\n",
    "        self.list_of_bag_words.sort(key=len, reverse=True)\n",
    "\n",
    "    def segment(self, input: str) -> List[str]:\n",
    "        \"\"\"Segment the input string using the bag of words\n",
    "\n",
    "        Args:\n",
    "            input (str): Chemical IUPAC name that need to be segmented.\n",
    "\n",
    "        Returns:\n",
    "            List[str]: Results of the segmentation.\n",
    "        \"\"\"\n",
    "        raw_output = re.split(rf\"({'|'.join(self.list_of_bag_words)})\", input)\n",
    "        output = [word for word in raw_output if word]\n",
    "\n",
    "        return output"
   ]
  },
  {
   "cell_type": "code",
   "execution_count": 18,
   "metadata": {},
   "outputs": [],
   "source": [
    "tokenizer = KMESegmentation('../data/raw/bag-of-words.json')"
   ]
  },
  {
   "cell_type": "code",
   "execution_count": 19,
   "metadata": {},
   "outputs": [
    {
     "data": {
      "text/plain": [
       "['1',\n",
       " ',',\n",
       " '1',\n",
       " ',',\n",
       " '1',\n",
       " ',',\n",
       " '5',\n",
       " ',',\n",
       " '5',\n",
       " ',',\n",
       " '5',\n",
       " '-',\n",
       " 'hex',\n",
       " 'a',\n",
       " 'fluoro',\n",
       " 'pent',\n",
       " 'ane',\n",
       " '-',\n",
       " '2',\n",
       " ',',\n",
       " '4',\n",
       " '-',\n",
       " 'di',\n",
       " 'one']"
      ]
     },
     "execution_count": 19,
     "metadata": {},
     "output_type": "execute_result"
    }
   ],
   "source": [
    "tokenizer.segment('1,1,1,5,5,5-hexafluoropentane-2,4-dione')"
   ]
  }
 ],
 "metadata": {
  "kernelspec": {
   "display_name": "Python 3.9.13 ('base')",
   "language": "python",
   "name": "python3"
  },
  "language_info": {
   "codemirror_mode": {
    "name": "ipython",
    "version": 3
   },
   "file_extension": ".py",
   "mimetype": "text/x-python",
   "name": "python",
   "nbconvert_exporter": "python",
   "pygments_lexer": "ipython3",
   "version": "3.9.13"
  },
  "orig_nbformat": 4,
  "vscode": {
   "interpreter": {
    "hash": "b58044850c48a88a53ec60a7eac10166fe06ea053575c640d463c2cb987b6ed2"
   }
  }
 },
 "nbformat": 4,
 "nbformat_minor": 2
}
